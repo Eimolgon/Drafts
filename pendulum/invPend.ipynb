{
 "cells": [
  {
   "cell_type": "code",
   "execution_count": null,
   "id": "5aa6d9f4",
   "metadata": {},
   "outputs": [],
   "source": [
    "import numpy as np\n",
    "import sympy as sm\n",
    "import sympy.physics.mechanics as me\n",
    "import matplotlib.pyplot as plt"
   ]
  },
  {
   "cell_type": "code",
   "execution_count": null,
   "id": "81882b5e",
   "metadata": {},
   "outputs": [],
   "source": [
    "N, A1 = sm.symbols('N A1', cls = me.ReferenceFrame)\n",
    "t = me.dynamicsymbols._t\n",
    "O, P1, P2 = sm.symbols('O P1 P2', cls = me.Point)\n",
    "O.set_vel(N, 0)\n",
    "q1, q2, u1, u2, F = me.dynamicsymbols('q1 q2 u1 u2 F')\n",
    "l1, m1, m2, g, iZZ1 = sm.symbols('l1, m1, m2, g, iZZ1')\n",
    "\n",
    "A1.orient_axis(N, q2, N.z)\n",
    "A1.set_ang_vel(N, u2*N.z)\n",
    "\n",
    "P1.set_pos(O, q1 * N.x)\n",
    "P2.set_pos(P1, l1 * A1.x)\n",
    "P2.v2pt_theory(P1, N, A1)\n",
    "\n",
    "P1a = me.Particle('P1a', P1, m1)\n",
    "\n",
    "I1 = me.inertia(A1, 0, 0, iZZ1)\n",
    "P2a = me.RigidBody('P2a', P2, A1, m2, (I1, P2))\n",
    "\n",
    "bodies = [P1a, P2a]\n",
    "\n",
    "loads = [(P1, F * N.x - m1*g*N.y), (P2, - m2*g*N.y)]\n",
    "kd = sm.Matrix([q1.diff(t) - u1, q2.diff(t) - u2])\n",
    "\n",
    "KM = me.KanesMethod(N, q_ind=q_ind,\n",
    "                    u_ind=u_ind,\n",
    "                    kd_eqs=kd)\n",
    "\n",
    "fr, frstar = KM.kanes_equations(bodies, loads=loads)\n",
    "eom = kd.col_join(fr + frstar)\n",
    "sm.pprint(sm.trigsimp(eom))"
   ]
  }
 ],
 "metadata": {
  "language_info": {
   "name": "python"
  }
 },
 "nbformat": 4,
 "nbformat_minor": 5
}
